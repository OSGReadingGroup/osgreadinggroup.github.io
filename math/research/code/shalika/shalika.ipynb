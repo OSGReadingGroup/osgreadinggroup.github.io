{
 "cells": [
  {
   "cell_type": "code",
   "execution_count": 18,
   "metadata": {
    "collapsed": false
   },
   "outputs": [
    {
     "name": "stdout",
     "output_type": "stream",
     "text": [
      "The normalized Shalika germ for [5] is\n",
      "(-q^4 - q^3 - q^2 - q - 1)/(-q^16)\n",
      "The normalized Shalika germ for [4, 1] is\n",
      "(-q^3 - 2*q^2 - q - 1)/q^10\n",
      "The normalized Shalika germ for [3, 2] is\n",
      "(-q^3 - q^2 - 2*q - 1)/q^7\n",
      "The normalized Shalika germ for [3, 1, 1] is\n",
      "(q^2 + 2*q + 2)/q^5\n",
      "The normalized Shalika germ for [2, 2, 1] is\n",
      "(2*q^2 + 2*q + 1)/q^4\n",
      "The normalized Shalika germ for [2, 1, 1, 1] is\n",
      "(-3*q - 2)/q^2\n",
      "The normalized Shalika germ for [1, 1, 1, 1, 1] is\n",
      "1\n",
      "The weight polynomial for the spherical affine Springer fiber is\n",
      "q^12 + 4*q^11 + 7*q^10 + 9*q^9 + 10*q^8 + 9*q^7 + 8*q^6 + 6*q^5 + 5*q^4 + 3*q^3 + 2*q^2 + q + 1\n"
     ]
    }
   ],
   "source": [
    "R=FractionField(QQ['q','t'])\n",
    "q=R.0\n",
    "t=R.1\n",
    "MaxDepth=65536\n",
    "n=5\n",
    "m=7\n",
    "def WeylQuot(part):\n",
    "    Quot=factorial(part.size())\n",
    "    for i in range(part.length()):\n",
    "        Quot=Quot//part[i]\n",
    "    return Quot\n",
    "\n",
    "##orb(A,B,d,nil,func) computes the orbital integral on gl_{s_i}, for one-step case s_i=n\n",
    "##It depends on A=s_i/s_{i-1}, B=s_{i-1}, d=numerator of depth, in one-step case it is =m\n",
    "##nil is a partition corresponding to a nilpotent orbit\n",
    "##func is a binary vector determining which lattice we take the characteristic function of\n",
    "##MaxDepth is used to make everything negative, with some work it can be avoided but Python3 floor division \n",
    "##behaves badly if we don't have it\n",
    "def orb(A,B,d,nil,func):\n",
    "    sum=0\n",
    "    quot=WeylQuot(nil)\n",
    "    k=0\n",
    "    w=[0 for l in range(nil.size())]\n",
    "    for i in range(nil.length()): \n",
    "        for j in range(nil[i]): \n",
    "            w[k]=i\n",
    "            k+=1\n",
    "    cosets=Arrangements(w,nil.size()).list()\n",
    "    for coset in cosets:\n",
    "        power=0\n",
    "        for j in range(A*B):\n",
    "            for k in range(A*B):\n",
    "                if (coset[j]>=coset[k]): continue\n",
    "                if ((j//B!=k//B) or (j%B<k%B)): \n",
    "                    power += int((d*(j//B-k//B)-MaxDepth*A)/A)\n",
    "                else: \n",
    "                    power += (-MaxDepth+1)\n",
    "                if((k//B-j//B)==1):\n",
    "                    if(k-j>B or ((k-j==B) and func[j])):\n",
    "                        power-=(-MaxDepth)\n",
    "                    else:\n",
    "                        power-=(-MaxDepth+1)\n",
    "                elif((j//B-k//B)==(A-1)):\n",
    "                    if((j-k)<=((A-1)*B) or ((j-k==(A-1)*B+1) and func[j-1])):\n",
    "                        power-=(-MaxDepth+d)\n",
    "                    else:\n",
    "                        power-=(-MaxDepth+d+1)\n",
    "                else: power-=int((d*(j//B-k//B+1)-MaxDepth*A)/A)\n",
    "        sum+=q^(power)\n",
    "    return sum\n",
    "#orb2 computes the nilpotent orbital integrals on gl_{s_{i-1}}\n",
    "def orb2(n,d,nil,func):\n",
    "    sum=0\n",
    "    quot\n",
    "    k=0\n",
    "    w=[0 for l in range(nil.size())]\n",
    "    for i in range(nil.length()): \n",
    "        for j in range(nil[i]): \n",
    "            w[k]=i\n",
    "            k+=1\n",
    "    cosets=Arrangements(w,nil.size()).list()\n",
    "    for coset in cosets:\n",
    "        power=0\n",
    "        for j in range(n):\n",
    "            for k in range(n):\n",
    "                if(coset[j]>=coset[k]): continue\n",
    "                if(j-k!=1 or (not func[j-1])):\n",
    "                    power-=d\n",
    "                else:\n",
    "                    power-=d-1\n",
    "        sum+=q^(power)\n",
    "    return sum\n",
    "\n",
    "#below is the main function (currently ONLY implemented for torus knots!!!)\n",
    "#we loop over test functions and nilpotent orbits to form a \n",
    "#2^{s_i-1} x part(s_i) matrix of nilpotent orbital integrals\n",
    "#TODO: given a list of depths, compute the transition matrices for nilp orbital integrals\n",
    "#and finally find Shalika germs in general case\n",
    "\n",
    "a=1<<(n-1)\n",
    "M=Matrix(R,a,Partitions(n).cardinality())\n",
    "testfunc=[False for l in range(n-1)]\n",
    "for j in range(a):\n",
    "    bits=j\n",
    "    for k in reversed(range(0,n-1)): \n",
    "        testfunc[k]=(bits%2==0)\n",
    "        bits//=2\n",
    "    p=0\n",
    "    #print(testfunc)\n",
    "    for part in Partitions(n):\n",
    "        M[j,p]=orb(n,1,m,part,testfunc)\n",
    "        p+=1\n",
    "#print(M)\n",
    "#now we solve the resulting linear system, vec stores Shalika germs\n",
    "v=[0 for l in range(a)]\n",
    "v[0]=1\n",
    "vec=M.solve_right(v)\n",
    "#print(vec)\n",
    "#print normalized Shalika germs:\n",
    "pp=0\n",
    "for part in Partitions(n):\n",
    "    print(\"The normalized Shalika germ for \"+str(part)+\" is\")\n",
    "    NormalizedSha=vec[pp]\n",
    "    NormalizedSha=NormalizedSha*(1-q^(-1))^(n-1)*q^(-(n-1)*(m-1)/2)\n",
    "    print(NormalizedSha)\n",
    "    pp+=1\n",
    "pp=0\n",
    "Sph=0\n",
    "for part in Partitions(n):\n",
    "    prod=1\n",
    "    prod=1\n",
    "    for i in range (part.length()):\n",
    "        for k in range(part[i]):\n",
    "            prod=prod*sum(q^j for j in range(k+1))\n",
    "#    print(factor(vec[pp]/prod))\n",
    "    Sph=Sph+vec[pp]/prod\n",
    "    pp+=1\n",
    "Sph.reduce()\n",
    "print(\"The weight polynomial for the spherical affine Springer fiber is\")\n",
    "print(Sph)"
   ]
  },
  {
   "cell_type": "code",
   "execution_count": 0,
   "metadata": {
    "collapsed": false
   },
   "outputs": [
   ],
   "source": [
   ]
  },
  {
   "cell_type": "code",
   "execution_count": 0,
   "metadata": {
    "collapsed": false
   },
   "outputs": [
   ],
   "source": [
    "\n"
   ]
  },
  {
   "cell_type": "code",
   "execution_count": 0,
   "metadata": {
    "collapsed": false
   },
   "outputs": [
   ],
   "source": [
   ]
  }
 ],
 "metadata": {
  "kernelspec": {
   "display_name": "SageMath 9.1",
   "language": "sagemath",
   "metadata": {
    "cocalc": {
     "description": "Open-source mathematical software system",
     "priority": 10,
     "url": "https://www.sagemath.org/"
    }
   },
   "name": "sage-9.1"
  },
  "language_info": {
   "codemirror_mode": {
    "name": "ipython",
    "version": 3
   },
   "file_extension": ".py",
   "mimetype": "text/x-python",
   "name": "python",
   "nbconvert_exporter": "python",
   "pygments_lexer": "ipython3",
   "version": "3.7.3"
  }
 },
 "nbformat": 4,
 "nbformat_minor": 4
}